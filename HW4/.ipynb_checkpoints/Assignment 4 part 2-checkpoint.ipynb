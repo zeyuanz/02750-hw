{
 "cells": [
  {
   "cell_type": "code",
   "execution_count": 1,
   "metadata": {},
   "outputs": [],
   "source": [
    "import numpy as np\n",
    "data = np.genfromtxt('DataPool.csv', delimiter=',')\n",
    "data = data[~np.isnan(data)].reshape(-1,12) # import data"
   ]
  },
  {
   "cell_type": "code",
   "execution_count": 2,
   "metadata": {},
   "outputs": [],
   "source": [
    "from sklearn.preprocessing import MinMaxScaler"
   ]
  },
  {
   "cell_type": "code",
   "execution_count": 3,
   "metadata": {},
   "outputs": [],
   "source": [
    "min_max_scaler = MinMaxScaler().fit(data)"
   ]
  },
  {
   "cell_type": "code",
   "execution_count": 4,
   "metadata": {},
   "outputs": [],
   "source": [
    "norm_data = min_max_scaler.transform(data) # perform minMaxscale as suggested by the paper"
   ]
  },
  {
   "cell_type": "code",
   "execution_count": 5,
   "metadata": {},
   "outputs": [],
   "source": [
    "X = norm_data[:,:11]\n",
    "y = norm_data[:, 11]"
   ]
  },
  {
   "cell_type": "markdown",
   "metadata": {},
   "source": [
    "## Max yield"
   ]
  },
  {
   "cell_type": "code",
   "execution_count": 6,
   "metadata": {},
   "outputs": [],
   "source": [
    "from sklearn.ensemble import RandomForestRegressor\n",
    "from modAL.uncertainty import uncertainty_sampling\n",
    "from modAL.models import ActiveLearner\n",
    "from sklearn.metrics import r2_score\n",
    "import copy"
   ]
  },
  {
   "cell_type": "code",
   "execution_count": 7,
   "metadata": {},
   "outputs": [],
   "source": [
    "class rfwapper(RandomForestRegressor):\n",
    "    def predict(self, X, return_std = False):\n",
    "        if return_std:\n",
    "            ys = np.array([e.predict(X) for e in self.estimators_])\n",
    "            return np.mean(ys, axis = 0).ravel(), (np.std(ys, axis = 0).ravel() + 1e-6)\n",
    "        return super().predict(X).ravel()\n",
    "    \n",
    "def init_training(size, total):\n",
    "    sample_idxs = np.arange(0,total)\n",
    "    np.random.shuffle(sample_idxs)\n",
    "    return sample_idxs[:size]\n",
    "\n",
    "def max_yeild_query(model, X, size, a_keyword_argument=42):\n",
    "    mean, std = model.predict(X, return_std=True)\n",
    "    UCB = mean + np.sqrt(2.0) * std\n",
    "    return np.argsort(UCB)[-size:]"
   ]
  },
  {
   "cell_type": "code",
   "execution_count": 31,
   "metadata": {
    "scrolled": true
   },
   "outputs": [
    {
     "name": "stdout",
     "output_type": "stream",
     "text": [
      "[INIT]\trunning mean:\t12.9256\n",
      "[1/4]\trunning mean:\t17.8757\n",
      "[2/4]\trunning mean:\t20.0473\n",
      "[3/4]\trunning mean:\t19.9078\n",
      "[4/4]\trunning mean:\t19.3942\n"
     ]
    }
   ],
   "source": [
    "X_random = copy.deepcopy(X)\n",
    "y_random = copy.deepcopy(y)\n",
    "\n",
    "size = 102\n",
    "idxs = init_training(size, X.shape[0])\n",
    "\n",
    "regressor = ActiveLearner(\n",
    "    estimator=rfwapper(),\n",
    "    query_strategy=max_yeild_query,\n",
    "    X_training=X_random[idxs].reshape(size, -1),\n",
    "    y_training=y_random[np.array(idxs)].reshape(size),\n",
    ")\n",
    "\n",
    "running_sum = min_max_scaler.inverse_transform(np.hstack((X_random[idxs], y_random[idxs].reshape(size,1))))[:,11].sum()\n",
    "print(\"[INIT]\\trunning mean:\\t%.4f\" %(running_sum / size))\n",
    "\n",
    "means = [running_sum / size] #only for plotting\n",
    "points = [min_max_scaler.inverse_transform(np.hstack((X_random[idxs], y_random[idxs].reshape(size,1))))[:,11]] #only for plotting\n",
    "\n",
    "X_random, y_random = (np.delete(X_random, idxs, axis=0), np.delete(y_random, idxs))\n",
    "\n",
    "n_queries = 510 - size\n",
    "for idx in range(n_queries // size):\n",
    "    query_idx,_ = regressor.query(X_random, size)\n",
    "    regressor.teach(X_random[query_idx].reshape(size, -1), y_random[np.array(query_idx)].reshape(size))\n",
    "    inverse_norm = min_max_scaler.inverse_transform(np.hstack((X_random[query_idx], y_random[query_idx].reshape(size,1))))\n",
    "    running_sum += inverse_norm[:,11].sum()\n",
    "    print(\"[%d/%d]\\trunning mean:\\t%.4f\" %(idx+1, n_queries//size, running_sum / (idx+2) / size))\n",
    "    means.append(running_sum / (idx+2) / size) #only for plotting\n",
    "    points.append(inverse_norm[:,11]) #only for plotting\n",
    "    X_random, y_random = (np.delete(X_random, query_idx, axis=0), np.delete(y_random, query_idx))"
   ]
  },
  {
   "cell_type": "code",
   "execution_count": 34,
   "metadata": {},
   "outputs": [
    {
     "data": {
      "text/plain": [
       "Text(0, 0.5, 'selected sample yields')"
      ]
     },
     "execution_count": 34,
     "metadata": {},
     "output_type": "execute_result"
    },
    {
     "data": {
      "image/png": "[encoded data removed]",
      "text/plain": [
       "<Figure size 432x288 with 1 Axes>"
      ]
     },
     "metadata": {
      "needs_background": "light"
     },
     "output_type": "display_data"
    }
   ],
   "source": [
    "fig, ax = plt.subplots()\n",
    "for j in [1,2,3,4,5]:\n",
    "    ax.scatter([j] * points[j-1].shape[0], points[j-1])\n",
    "ax.set_xticks([1,2,3,4,5])\n",
    "ax.set_xlabel(\"number of batches\")\n",
    "ax.set_ylabel(\"selected sample yields\")"
   ]
  },
  {
   "cell_type": "code",
   "execution_count": 33,
   "metadata": {},
   "outputs": [
    {
     "data": {
      "text/plain": [
       "[<matplotlib.axis.XTick at 0x7f8c5bb61e80>,\n",
       " <matplotlib.axis.XTick at 0x7f8c5bb61a58>,\n",
       " <matplotlib.axis.XTick at 0x7f8c5bb616a0>,\n",
       " <matplotlib.axis.XTick at 0x7f8c5bb89710>,\n",
       " <matplotlib.axis.XTick at 0x7f8c5bb89ba8>]"
      ]
     },
     "execution_count": 33,
     "metadata": {},
     "output_type": "execute_result"
    },
    {
     "data": {
      "image/png": "[encoded data removed]",
      "text/plain": [
       "<Figure size 432x288 with 1 Axes>"
      ]
     },
     "metadata": {
      "needs_background": "light"
     },
     "output_type": "display_data"
    }
   ],
   "source": [
    "fig, ax = plt.subplots()\n",
    "ax.plot([1,2,3,4,5], means)\n",
    "ax.set_xlabel(\"number of batches\")\n",
    "ax.set_ylabel(\"mean of yield\")\n",
    "ax.set_xticks([1,2,3,4,5])"
   ]
  },
  {
   "cell_type": "markdown",
   "metadata": {},
   "source": [
    "### Max accuracy"
   ]
  },
  {
   "cell_type": "code",
   "execution_count": 9,
   "metadata": {},
   "outputs": [],
   "source": [
    "from sklearn.ensemble import GradientBoostingRegressor\n",
    "from modAL.models import CommitteeRegressor\n",
    "from modAL.disagreement import max_std_sampling\n",
    "from sklearn.neural_network import MLPRegressor\n",
    "from sklearn.linear_model import LinearRegression\n",
    "from warnings import simplefilter\n",
    "from sklearn.exceptions import ConvergenceWarning\n",
    "simplefilter(\"ignore\", category=ConvergenceWarning)"
   ]
  },
  {
   "cell_type": "code",
   "execution_count": 15,
   "metadata": {},
   "outputs": [
    {
     "name": "stdout",
     "output_type": "stream",
     "text": [
      "[0/408]\tR2 test:\t0.7707\n",
      "[50/408]\tR2 test:\t0.8819\n",
      "[100/408]\tR2 test:\t0.9017\n",
      "[150/408]\tR2 test:\t0.9093\n",
      "[200/408]\tR2 test:\t0.9118\n",
      "[250/408]\tR2 test:\t0.9112\n",
      "[300/408]\tR2 test:\t0.9146\n",
      "[350/408]\tR2 test:\t0.9184\n",
      "[400/408]\tR2 test:\t0.9190\n",
      "R2 test:\t 0.9184\n"
     ]
    }
   ],
   "source": [
    "X_active = X.copy()\n",
    "y_active = y.copy()\n",
    "\n",
    "size = 102\n",
    "num_regressor = 3\n",
    "idxs = init_training(size, X.shape[0])\n",
    "learners = []\n",
    "for i in range(num_regressor):\n",
    "    l = ActiveLearner(\n",
    "        estimator=GradientBoostingRegressor(),\n",
    "        X_training=X_active[idxs[i * size // num_regressor:(i+1) * size // num_regressor]].reshape(size//num_regressor, -1), \n",
    "        y_training=y_active[idxs[i * size // num_regressor:(i+1) * size // num_regressor]].reshape(size//num_regressor),\n",
    "    )\n",
    "    learners.append(l)\n",
    "    \n",
    "X_active, y_active = (np.delete(X_active, idxs, axis=0), np.delete(y_active, idxs))\n",
    "\n",
    "committee = CommitteeRegressor(\n",
    "    learner_list = learners,\n",
    "    query_strategy = max_std_sampling,\n",
    ")\n",
    "\n",
    "iters = []\n",
    "r2_tests = []\n",
    "\n",
    "n_queries = 510 - size\n",
    "for idx in range(n_queries):\n",
    "    query_idx,_ = committee.query(X_active)\n",
    "    committee.teach(X_active[query_idx].reshape(1, -1), y_active[np.array(query_idx)].reshape(1))\n",
    "    X_active, y_active = (np.delete(X_active, query_idx, axis=0), np.delete(y_active, query_idx))\n",
    "    \n",
    "    if idx % 50 == 0:\n",
    "        y_pred_final = committee.predict(X_active, return_std = False)\n",
    "        r2_test = r2_score(y_active, y_pred_final)\n",
    "        print(\"[%d/%d]\\tR2 test:\\t%.4f\" %(idx, n_queries, r2_test))\n",
    "        iters.append(size+idx+1)\n",
    "        r2_tests.append(r2_test)\n",
    "        \n",
    "\n",
    "y_pred_final = committee.predict(X_active, return_std = False)\n",
    "r2_test = r2_score(y_active, y_pred_final)\n",
    "iters.append(510)\n",
    "r2_tests.append(r2_test)\n",
    "\n",
    "# print(y_test,y_pred_final,y_train_pred)\n",
    "print(\"R2 test:\\t %.4f\" %(r2_test))"
   ]
  },
  {
   "cell_type": "code",
   "execution_count": 16,
   "metadata": {},
   "outputs": [],
   "source": [
    "import matplotlib.pyplot as plt"
   ]
  },
  {
   "cell_type": "code",
   "execution_count": 26,
   "metadata": {},
   "outputs": [
    {
     "data": {
      "text/plain": [
       "Text(0.5, 0, 'number of selected samples')"
      ]
     },
     "execution_count": 26,
     "metadata": {},
     "output_type": "execute_result"
    },
    {
     "data": {
      "image/png": "[encoded data removed]",
      "text/plain": [
       "<Figure size 432x288 with 1 Axes>"
      ]
     },
     "metadata": {
      "needs_background": "light"
     },
     "output_type": "display_data"
    }
   ],
   "source": [
    "fig, ax = plt.subplots()\n",
    "ax.plot(iters, r2_tests)\n",
    "ax.set_ylabel(\"R2 score\")\n",
    "ax.set_xlabel(\"number of selected samples\")"
   ]
  }
 ],
 "metadata": {
  "kernelspec": {
   "display_name": "Python 3",
   "language": "python",
   "name": "python3"
  },
  "language_info": {
   "codemirror_mode": {
    "name": "ipython",
    "version": 3
   },
   "file_extension": ".py",
   "mimetype": "text/x-python",
   "name": "python",
   "nbconvert_exporter": "python",
   "pygments_lexer": "ipython3",
   "version": "3.8.5"
  }
 },
 "nbformat": 4,
 "nbformat_minor": 5
}
