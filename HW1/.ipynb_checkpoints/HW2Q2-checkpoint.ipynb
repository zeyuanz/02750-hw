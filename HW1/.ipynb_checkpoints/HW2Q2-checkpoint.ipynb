{
 "cells": [
  {
   "cell_type": "markdown",
   "metadata": {},
   "source": [
    "# Question 2. IWAL algorithm implementation (50 points)"
   ]
  },
  {
   "cell_type": "markdown",
   "metadata": {},
   "source": [
    "The purpose of this question is to implement Importance Weighted Active Learning (IWAL) algorithm. For this question, you will not use modAL, but instead will implement IWAL routine from scratch using scikit-learn, NumPy and native Python. In this question, we will use a simple synthetic dataset for a binary classification problem. Each data point has only 2 features. The dataset is provided in 2 files -- “data_iwal.npy”, which contains features and “labels_iwal.npy”, which contains labels. For simplicity, you will implement bootstrapping rejection sampling subroutine with logistic regression and hinge loss.   "
   ]
  },
  {
   "cell_type": "markdown",
   "metadata": {},
   "source": [
    "𝐂𝐨𝐦𝐩𝐥𝐞𝐭𝐞 𝐭𝐡𝐞 𝐜𝐨𝐝𝐞 𝐮𝐧𝐝𝐞𝐫 ###𝐓𝐎 𝐃𝐎 𝐢𝐧 𝐞𝐚𝐜𝐡 𝐜𝐞𝐥𝐥 𝐚𝐧𝐝 𝐩𝐫𝐨𝐝𝐮𝐜𝐞 𝐭𝐡𝐞 𝐫𝐞𝐪𝐮𝐢𝐫𝐞𝐝 𝐩𝐥𝐨𝐭𝐬.  Feel free to define any helper functions as you see fit. You may import and use any modules in scikit-learn and NumPy to help with your implementations."
   ]
  },
  {
   "cell_type": "markdown",
   "metadata": {},
   "source": [
    "## Imports"
   ]
  },
  {
   "cell_type": "markdown",
   "metadata": {},
   "source": [
    "Here we import necessary modules. Feel free to add something else here if you need it!"
   ]
  },
  {
   "cell_type": "code",
   "execution_count": 1,
   "metadata": {},
   "outputs": [],
   "source": [
    "import matplotlib.pyplot as plt\n",
    "%matplotlib inline\n",
    "\n",
    "import numpy as np\n",
    "from sklearn.model_selection import train_test_split\n",
    "from sklearn.metrics import hinge_loss, log_loss\n",
    "from sklearn.linear_model import LogisticRegression"
   ]
  },
  {
   "cell_type": "markdown",
   "metadata": {},
   "source": [
    "## Reading data"
   ]
  },
  {
   "cell_type": "markdown",
   "metadata": {},
   "source": [
    "Here we read the data and split it into train and test datasets. Train will be used to train our classification model and test will be used to validate the performance, monitor overfitting and compare the results of the model trained with Active Learning with the ones of the model trained from scratch. We set aside 1/3 of the dataset for validation."
   ]
  },
  {
   "cell_type": "code",
   "execution_count": 2,
   "metadata": {},
   "outputs": [
    {
     "ename": "FileNotFoundError",
     "evalue": "[Errno 2] No such file or directory: 'HW2/data/q2/data_iwal.npy'",
     "output_type": "error",
     "traceback": [
      "\u001b[0;31m---------------------------------------------------------------------------\u001b[0m",
      "\u001b[0;31mFileNotFoundError\u001b[0m                         Traceback (most recent call last)",
      "\u001b[0;32m<ipython-input-2-fce4bda7d017>\u001b[0m in \u001b[0;36m<module>\u001b[0;34m\u001b[0m\n\u001b[0;32m----> 1\u001b[0;31m \u001b[0mX\u001b[0m \u001b[0;34m=\u001b[0m \u001b[0mnp\u001b[0m\u001b[0;34m.\u001b[0m\u001b[0mload\u001b[0m\u001b[0;34m(\u001b[0m\u001b[0;34m\"HW2/data/q2/data_iwal.npy\"\u001b[0m\u001b[0;34m)\u001b[0m\u001b[0;34m\u001b[0m\u001b[0;34m\u001b[0m\u001b[0m\n\u001b[0m\u001b[1;32m      2\u001b[0m \u001b[0my\u001b[0m \u001b[0;34m=\u001b[0m \u001b[0mnp\u001b[0m\u001b[0;34m.\u001b[0m\u001b[0mload\u001b[0m\u001b[0;34m(\u001b[0m\u001b[0;34m\"HW2/data/q2/labels_iwal.npy\"\u001b[0m\u001b[0;34m)\u001b[0m\u001b[0;34m\u001b[0m\u001b[0;34m\u001b[0m\u001b[0m\n",
      "\u001b[0;32m~/.local/lib/python3.6/site-packages/numpy/lib/npyio.py\u001b[0m in \u001b[0;36mload\u001b[0;34m(file, mmap_mode, allow_pickle, fix_imports, encoding)\u001b[0m\n\u001b[1;32m    414\u001b[0m             \u001b[0mown_fid\u001b[0m \u001b[0;34m=\u001b[0m \u001b[0;32mFalse\u001b[0m\u001b[0;34m\u001b[0m\u001b[0;34m\u001b[0m\u001b[0m\n\u001b[1;32m    415\u001b[0m         \u001b[0;32melse\u001b[0m\u001b[0;34m:\u001b[0m\u001b[0;34m\u001b[0m\u001b[0;34m\u001b[0m\u001b[0m\n\u001b[0;32m--> 416\u001b[0;31m             \u001b[0mfid\u001b[0m \u001b[0;34m=\u001b[0m \u001b[0mstack\u001b[0m\u001b[0;34m.\u001b[0m\u001b[0menter_context\u001b[0m\u001b[0;34m(\u001b[0m\u001b[0mopen\u001b[0m\u001b[0;34m(\u001b[0m\u001b[0mos_fspath\u001b[0m\u001b[0;34m(\u001b[0m\u001b[0mfile\u001b[0m\u001b[0;34m)\u001b[0m\u001b[0;34m,\u001b[0m \u001b[0;34m\"rb\"\u001b[0m\u001b[0;34m)\u001b[0m\u001b[0;34m)\u001b[0m\u001b[0;34m\u001b[0m\u001b[0;34m\u001b[0m\u001b[0m\n\u001b[0m\u001b[1;32m    417\u001b[0m             \u001b[0mown_fid\u001b[0m \u001b[0;34m=\u001b[0m \u001b[0;32mTrue\u001b[0m\u001b[0;34m\u001b[0m\u001b[0;34m\u001b[0m\u001b[0m\n\u001b[1;32m    418\u001b[0m \u001b[0;34m\u001b[0m\u001b[0m\n",
      "\u001b[0;31mFileNotFoundError\u001b[0m: [Errno 2] No such file or directory: 'HW2/data/q2/data_iwal.npy'"
     ]
    }
   ],
   "source": [
    "X = np.load(\"HW2/data/q2/data_iwal.npy\")\n",
    "y = np.load(\"HW2/data/q2/labels_iwal.npy\")"
   ]
  },
  {
   "cell_type": "code",
   "execution_count": null,
   "metadata": {},
   "outputs": [],
   "source": [
    "X_train, X_test, y_train, y_test = train_test_split(X, y, test_size=0.33, random_state=42)"
   ]
  },
  {
   "cell_type": "markdown",
   "metadata": {},
   "source": [
    "## Part 2.1\n",
    "Type your answers for the theoretical questions below."
   ]
  },
  {
   "cell_type": "markdown",
   "metadata": {},
   "source": [
    "1. What is the idea behind IWAL algorithm?\n",
    "\n",
    "**Your answer goes here**\n",
    "\n",
    "2. What are the assumptions made for the IWAL algorithm?\n",
    "\n",
    "**Your answer goes here**\n",
    "\n",
    "3. What are the pros and cons of IWAL algorithm?\n",
    "\n",
    "**Your answer goes here**"
   ]
  },
  {
   "cell_type": "markdown",
   "metadata": {},
   "source": [
    "## Part 2.2 Implement IWAL algorithm"
   ]
  },
  {
   "cell_type": "markdown",
   "metadata": {},
   "source": [
    "In this part you will implement a functiom that performs a single query of Algorithm 1 IWAL (subroutine rejection-sampling) from the paper. Below is the function description that you can follow in your implementation."
   ]
  },
  {
   "cell_type": "code",
   "execution_count": null,
   "metadata": {},
   "outputs": [],
   "source": [
    "### TODO: Implement Algorithm 1 from the paper\n",
    "def IWAL_query(x_t, rejection_sampling, history, h, **kwargs):\n",
    "    \"\"\"\n",
    "    This function implements a single query if IWAL algorithm from the paper \n",
    "    by Beygelzimer et al https://arxiv.org/pdf/0812.4952.pdf\n",
    "    Args:\n",
    "        x_t: currently considered sample \n",
    "        y_t: label for x, will be added to history if requested\n",
    "        rejection_sampling: python function, that accepts current data point x_t and \n",
    "        some arbitrary arguments and returns probability of requesting a label for x_t\n",
    "        history: dictionary of previous history. history.keys() will return dict_keys(['X', 'y', 'c', 'Q']), \n",
    "        where, X -- is a history of sampled data points, y -- labels for samples in X, c -- weights for \n",
    "        samples in X.\n",
    "        h: scikit-learn model class, such as sklearn.linear_model.LogisticRegression, etc\n",
    "        **kwargs: dictionary of arbitrary arguments that may be required by rejection_sampling()\n",
    "    Returns: \n",
    "        h_t: object of scikit-learn model class h, that is optimal at current time step.\n",
    "    \"\"\"\n",
    "    ### Your code goes here\n",
    "    # p_t = ...\n",
    "    # Q_t = ...\n",
    "    # if Q_t = 1:\n",
    "    #    ...\n",
    "    # else:\n",
    "    #    ...\n",
    "    # h_t = ...\n",
    "    return h_t"
   ]
  },
  {
   "cell_type": "markdown",
   "metadata": {},
   "source": [
    "## Part 2.3 Implement bootstraing rejection sampling subroutine"
   ]
  },
  {
   "cell_type": "markdown",
   "metadata": {},
   "source": [
    "In this part you will implement bootstrapping rejection sampling subroutine from the paper, section 7.2"
   ]
  },
  {
   "cell_type": "code",
   "execution_count": null,
   "metadata": {},
   "outputs": [],
   "source": [
    "def bootstrap(x, H, labels, loss, p_min=0.1):\n",
    "    \"\"\"\n",
    "    This function implements bootstrap rejection sampling subroutine.\n",
    "    Args:\n",
    "        x: array-like object of features for currently considered sample\n",
    "        H: list of hypothesis (scikit-learn objects) that are used in voting\n",
    "        labels: list of possible labels for the problem. If binary classifiction, labels=[0, 1]\n",
    "        p_min: minimum threshold for the probability\n",
    "    Returns:\n",
    "        p_t: probability of requesting the label for x, which is equal to:\n",
    "            p_min + (1 - p_min)(max_{y, h_i, h_j} L(h_i(x), y) - L(h_j(x), y))\n",
    "    \"\"\"\n",
    "    max_value = -10000\n",
    "    for i in range(len(H)):\n",
    "        for j in range(len(H)):\n",
    "            for y in labels:\n",
    "                # TODO: calculate max_value = max_{y, h_i, h_j} L(h_i(x), y) - L(h_j(x), y)\n",
    "    return p_min + (1 - p_min)*max_value"
   ]
  },
  {
   "cell_type": "markdown",
   "metadata": {},
   "source": [
    "## Part 2.4 Organize all implemented parts into a single pipeline"
   ]
  },
  {
   "cell_type": "markdown",
   "metadata": {},
   "source": [
    "Now you implemented all part of IWAL algorithm with bootstrap rejection sampling and can organize it into a pipeline"
   ]
  },
  {
   "cell_type": "code",
   "execution_count": null,
   "metadata": {},
   "outputs": [],
   "source": [
    "history = {}\n",
    "losses = []\n",
    "n_initial = 10\n",
    "n_h = 10\n",
    "\n",
    "X_training, y_training = X_train[:n_initial], y_train[:n_initial]\n",
    "\n",
    "#Initialization: initialize history and H\n",
    "## TODO: your code here\n",
    "\n",
    "# Create n_h classifiers and train them on bootstrapped data (data is sampled with replacement)\n",
    "## TODO: your code goes here\n",
    "    \n",
    "# Perform queries and record loss\n",
    "n_query = 50\n",
    "for t in n_query:\n",
    "    ### TODO: your code goes here\n",
    "    log_loss(y_test, h_t.predict_proba(X_test)) "
   ]
  },
  {
   "cell_type": "code",
   "execution_count": null,
   "metadata": {},
   "outputs": [],
   "source": [
    "plt.plot(losses)"
   ]
  },
  {
   "cell_type": "markdown",
   "metadata": {},
   "source": [
    "## Part 2.5 Compare results of Active Learning vs No Active Learning"
   ]
  },
  {
   "cell_type": "markdown",
   "metadata": {},
   "source": [
    "In this part you need to create object of the same scikit learning class and train it on randomly selected subset of data points and compare results of 2 classifiers. Comment on your observations"
   ]
  },
  {
   "cell_type": "code",
   "execution_count": null,
   "metadata": {},
   "outputs": [],
   "source": [
    "# Compare to no Active Learning setting\n",
    "\n",
    "## TODO: your code goes here"
   ]
  },
  {
   "cell_type": "code",
   "execution_count": null,
   "metadata": {},
   "outputs": [],
   "source": []
  }
 ],
 "metadata": {
  "kernelspec": {
   "display_name": "Python 3",
   "language": "python",
   "name": "python3"
  },
  "language_info": {
   "codemirror_mode": {
    "name": "ipython",
    "version": 3
   },
   "file_extension": ".py",
   "mimetype": "text/x-python",
   "name": "python",
   "nbconvert_exporter": "python",
   "pygments_lexer": "ipython3",
   "version": "3.6.12"
  }
 },
 "nbformat": 4,
 "nbformat_minor": 2
}
